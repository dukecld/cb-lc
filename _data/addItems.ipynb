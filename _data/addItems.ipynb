{
 "cells": [
  {
   "cell_type": "code",
   "execution_count": null,
   "id": "8a680501-17e7-4f71-b411-643c853b7338",
   "metadata": {},
   "outputs": [],
   "source": [
    "import pandas as pd\n",
    "import numpy as np"
   ]
  },
  {
   "cell_type": "code",
   "execution_count": null,
   "id": "ddb6c1a3-947f-4fc2-9161-3fe513cfee82",
   "metadata": {},
   "outputs": [],
   "source": [
    "df = pd.read_csv('cbcld-1.csv')\n",
    "df.head()\n",
    "df.iloc[0]['object_location']"
   ]
  },
  {
   "cell_type": "code",
   "execution_count": null,
   "id": "b68e315d-78ab-4c2c-a46f-5fbf6135d2cb",
   "metadata": {},
   "outputs": [],
   "source": []
  },
  {
   "cell_type": "code",
   "execution_count": null,
   "id": "5f5c67dd-f534-4bce-b76e-38affcefcb2e",
   "metadata": {},
   "outputs": [],
   "source": [
    "dfsub = df.iloc[1:6].copy()"
   ]
  },
  {
   "cell_type": "code",
   "execution_count": null,
   "id": "4462b68f-9663-40c9-862e-5830fc772cd6",
   "metadata": {},
   "outputs": [],
   "source": [
    "dfsub[ ['objectid', 'object_location']]"
   ]
  },
  {
   "cell_type": "code",
   "execution_count": null,
   "id": "139a7329-916a-44a8-aa69-fffea4ea2150",
   "metadata": {},
   "outputs": [],
   "source": [
    "locaL = ['/objects/ac_004_turkish_tubaphone.jpg',\n",
    "'/objects/ac_005_xylophone.jpg',\n",
    "'/objects/ac_006_4_tuning_forks.jpg',\n",
    "'/objects/ac_007_whistle.jpg',\n",
    "'/objects/ac_010_metronome.jpg']\n",
    "locaL"
   ]
  },
  {
   "cell_type": "code",
   "execution_count": null,
   "id": "9cf4ae2e-f439-466f-83ec-3f3b8624a2f4",
   "metadata": {},
   "outputs": [],
   "source": [
    "dfsub['object_location'] = locaL"
   ]
  },
  {
   "cell_type": "code",
   "execution_count": null,
   "id": "cc4a68a9-eb37-41bf-b954-a0c652280cf8",
   "metadata": {},
   "outputs": [],
   "source": [
    "len(dfsub)"
   ]
  },
  {
   "cell_type": "code",
   "execution_count": null,
   "id": "a16c83bf-4112-4436-bf97-472b91d284be",
   "metadata": {},
   "outputs": [],
   "source": [
    "dfsub.to_csv('cb-lc-2.csv', index = False)"
   ]
  },
  {
   "cell_type": "code",
   "execution_count": null,
   "id": "59d04503-cb15-4e20-a6b1-6bc2bf52b1ca",
   "metadata": {},
   "outputs": [],
   "source": [
    "dfsub.columns"
   ]
  },
  {
   "cell_type": "code",
   "execution_count": null,
   "id": "6cf31faa-d7fc-4c58-bbd7-001a21e45598",
   "metadata": {},
   "outputs": [],
   "source": [
    "df['image_small'] = np.nan"
   ]
  },
  {
   "cell_type": "code",
   "execution_count": null,
   "id": "251bc9df-5ab9-4c9e-876a-2151e8c9fd60",
   "metadata": {},
   "outputs": [],
   "source": [
    "dfsub['image_thumb']= np.nan\n",
    "dfsub['image_thumb']"
   ]
  },
  {
   "cell_type": "code",
   "execution_count": null,
   "id": "ac97030a-f083-4710-bb65-1d182a9ee454",
   "metadata": {},
   "outputs": [],
   "source": [
    "dfsub.to_csv('cb-lc-1.csv', index = False)"
   ]
  },
  {
   "cell_type": "code",
   "execution_count": null,
   "id": "ed279e39-8cbd-4fa5-8370-a3b65ea67aaa",
   "metadata": {},
   "outputs": [],
   "source": [
    "dff = pd.read_csv('cb-lc-2.csv')"
   ]
  },
  {
   "cell_type": "code",
   "execution_count": null,
   "id": "bf7cdd70-5724-452c-83d2-eb78b625ddec",
   "metadata": {},
   "outputs": [],
   "source": [
    "dff.columns"
   ]
  },
  {
   "cell_type": "code",
   "execution_count": null,
   "id": "cfb582a3-8fc8-439d-a5b9-c7167b558d71",
   "metadata": {},
   "outputs": [],
   "source": [
    "dff.set_index('objectid', inplace = True)"
   ]
  },
  {
   "cell_type": "code",
   "execution_count": null,
   "id": "ec8e3454-4fb7-416f-97a9-287a6de6156f",
   "metadata": {},
   "outputs": [],
   "source": [
    "dff.loc['ac_005',:]\n"
   ]
  },
  {
   "cell_type": "code",
   "execution_count": null,
   "id": "d1212136-fc4a-4a34-9f70-df1c84a25af8",
   "metadata": {},
   "outputs": [],
   "source": [
    "dff.to_csv('cb-lc-2.csv', index=False)\n"
   ]
  },
  {
   "cell_type": "code",
   "execution_count": null,
   "id": "ff10f5f4-d377-4054-8c91-81f537e47692",
   "metadata": {},
   "outputs": [],
   "source": [
    "dff.loc['ac_005','image_small'] = \"/objects/ac_006_4_tuning_forks_sm.jpg\"\n",
    "dff.loc['ac_006','image_small'] = \"/objects/ac_006_4_tuning_forks_sm.jpg\"\n",
    "dff.loc['ac_007','image_small'] = \"/objects/ac_007_whistle_sm.jpg\"\n",
    "dff.loc['ac_010','image_small'] = \"/objects/ac_010_metronome_sm.jpg\"\n"
   ]
  },
  {
   "cell_type": "code",
   "execution_count": null,
   "id": "11342c99-ccc7-4496-bad6-e431130dc3a3",
   "metadata": {},
   "outputs": [],
   "source": [
    "dff.loc['ac_010']"
   ]
  },
  {
   "cell_type": "code",
   "execution_count": null,
   "id": "ec53973c-0910-48c9-9631-5f8520f11adf",
   "metadata": {},
   "outputs": [],
   "source": [
    "dff.reset_index(inplace=True)"
   ]
  },
  {
   "cell_type": "code",
   "execution_count": null,
   "id": "3854896f-4386-4b46-800c-dd2f60408c45",
   "metadata": {},
   "outputs": [],
   "source": [
    "dff.head()"
   ]
  },
  {
   "cell_type": "code",
   "execution_count": null,
   "id": "b4e6eb66-114d-431c-ae33-0e076ee8ba54",
   "metadata": {},
   "outputs": [],
   "source": [
    "df = pd.read_csv('cb-lc-2.csv')\n",
    "df.set_index('objectid',inplace=True)"
   ]
  },
  {
   "cell_type": "code",
   "execution_count": null,
   "id": "6543c7b4-8334-456b-a772-095fa18295c6",
   "metadata": {
    "scrolled": true
   },
   "outputs": [],
   "source": [
    "df.head()"
   ]
  },
  {
   "cell_type": "code",
   "execution_count": null,
   "id": "b554bf40-e25c-437e-995c-6a7fdc1bda0d",
   "metadata": {},
   "outputs": [],
   "source": []
  }
 ],
 "metadata": {
  "kernelspec": {
   "display_name": "Python [conda env:base] *",
   "language": "python",
   "name": "conda-base-py"
  },
  "language_info": {
   "codemirror_mode": {
    "name": "ipython",
    "version": 3
   },
   "file_extension": ".py",
   "mimetype": "text/x-python",
   "name": "python",
   "nbconvert_exporter": "python",
   "pygments_lexer": "ipython3",
   "version": "3.12.7"
  }
 },
 "nbformat": 4,
 "nbformat_minor": 5
}
