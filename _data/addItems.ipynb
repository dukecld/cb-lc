{
 "cells": [
  {
   "cell_type": "code",
   "execution_count": 1,
   "id": "8a680501-17e7-4f71-b411-643c853b7338",
   "metadata": {},
   "outputs": [],
   "source": [
    "import pandas as pd\n",
    "import numpy as np"
   ]
  },
  {
   "cell_type": "code",
   "execution_count": 2,
   "id": "ddb6c1a3-947f-4fc2-9161-3fe513cfee82",
   "metadata": {},
   "outputs": [
    {
     "data": {
      "text/plain": [
       "'https://gcsmbstorage.blob.core.windows.net/objs/physics/ac_001.jpg'"
      ]
     },
     "execution_count": 2,
     "metadata": {},
     "output_type": "execute_result"
    }
   ],
   "source": [
    "df = pd.read_csv('cbcld-1.csv')\n",
    "df.head()\n",
    "df.iloc[0]['object_location']"
   ]
  },
  {
   "cell_type": "code",
   "execution_count": 3,
   "id": "b68e315d-78ab-4c2c-a46f-5fbf6135d2cb",
   "metadata": {},
   "outputs": [
    {
     "data": {
      "text/plain": [
       "551"
      ]
     },
     "execution_count": 3,
     "metadata": {},
     "output_type": "execute_result"
    }
   ],
   "source": []
  },
  {
   "cell_type": "code",
   "execution_count": 4,
   "id": "5f5c67dd-f534-4bce-b76e-38affcefcb2e",
   "metadata": {},
   "outputs": [],
   "source": [
    "dfsub = df.iloc[1:6].copy()"
   ]
  },
  {
   "cell_type": "code",
   "execution_count": 5,
   "id": "4462b68f-9663-40c9-862e-5830fc772cd6",
   "metadata": {},
   "outputs": [
    {
     "data": {
      "text/html": [
       "<div>\n",
       "<style scoped>\n",
       "    .dataframe tbody tr th:only-of-type {\n",
       "        vertical-align: middle;\n",
       "    }\n",
       "\n",
       "    .dataframe tbody tr th {\n",
       "        vertical-align: top;\n",
       "    }\n",
       "\n",
       "    .dataframe thead th {\n",
       "        text-align: right;\n",
       "    }\n",
       "</style>\n",
       "<table border=\"1\" class=\"dataframe\">\n",
       "  <thead>\n",
       "    <tr style=\"text-align: right;\">\n",
       "      <th></th>\n",
       "      <th>objectid</th>\n",
       "      <th>object_location</th>\n",
       "    </tr>\n",
       "  </thead>\n",
       "  <tbody>\n",
       "    <tr>\n",
       "      <th>1</th>\n",
       "      <td>ac_004</td>\n",
       "      <td>https://gcsmbstorage.blob.core.windows.net/obj...</td>\n",
       "    </tr>\n",
       "    <tr>\n",
       "      <th>2</th>\n",
       "      <td>ac_005</td>\n",
       "      <td>https://gcsmbstorage.blob.core.windows.net/obj...</td>\n",
       "    </tr>\n",
       "    <tr>\n",
       "      <th>3</th>\n",
       "      <td>ac_006</td>\n",
       "      <td>https://gcsmbstorage.blob.core.windows.net/obj...</td>\n",
       "    </tr>\n",
       "    <tr>\n",
       "      <th>4</th>\n",
       "      <td>ac_007</td>\n",
       "      <td>https://gcsmbstorage.blob.core.windows.net/obj...</td>\n",
       "    </tr>\n",
       "    <tr>\n",
       "      <th>5</th>\n",
       "      <td>ac_010</td>\n",
       "      <td>https://gcsmbstorage.blob.core.windows.net/obj...</td>\n",
       "    </tr>\n",
       "  </tbody>\n",
       "</table>\n",
       "</div>"
      ],
      "text/plain": [
       "  objectid                                    object_location\n",
       "1   ac_004  https://gcsmbstorage.blob.core.windows.net/obj...\n",
       "2   ac_005  https://gcsmbstorage.blob.core.windows.net/obj...\n",
       "3   ac_006  https://gcsmbstorage.blob.core.windows.net/obj...\n",
       "4   ac_007  https://gcsmbstorage.blob.core.windows.net/obj...\n",
       "5   ac_010  https://gcsmbstorage.blob.core.windows.net/obj..."
      ]
     },
     "execution_count": 5,
     "metadata": {},
     "output_type": "execute_result"
    }
   ],
   "source": [
    "dfsub[ ['objectid', 'object_location']]"
   ]
  },
  {
   "cell_type": "code",
   "execution_count": 6,
   "id": "139a7329-916a-44a8-aa69-fffea4ea2150",
   "metadata": {},
   "outputs": [
    {
     "data": {
      "text/plain": [
       "['/objects/ac_004_turkish_tubaphone.jpg',\n",
       " '/objects/ac_005_xylophone.jpg',\n",
       " '/objects/ac_006_4_tuning_forks.jpg',\n",
       " '/objects/ac_007_whistle.jpg',\n",
       " '/objects/ac_010_metronome.jpg']"
      ]
     },
     "execution_count": 6,
     "metadata": {},
     "output_type": "execute_result"
    }
   ],
   "source": [
    "locaL = ['/objects/ac_004_turkish_tubaphone.jpg',\n",
    "'/objects/ac_005_xylophone.jpg',\n",
    "'/objects/ac_006_4_tuning_forks.jpg',\n",
    "'/objects/ac_007_whistle.jpg',\n",
    "'/objects/ac_010_metronome.jpg']\n",
    "locaL"
   ]
  },
  {
   "cell_type": "code",
   "execution_count": 7,
   "id": "9cf4ae2e-f439-466f-83ec-3f3b8624a2f4",
   "metadata": {},
   "outputs": [],
   "source": [
    "dfsub['object_location'] = locaL"
   ]
  },
  {
   "cell_type": "code",
   "execution_count": 9,
   "id": "cc4a68a9-eb37-41bf-b954-a0c652280cf8",
   "metadata": {},
   "outputs": [
    {
     "data": {
      "text/plain": [
       "5"
      ]
     },
     "execution_count": 9,
     "metadata": {},
     "output_type": "execute_result"
    }
   ],
   "source": [
    "len(dfsub)"
   ]
  },
  {
   "cell_type": "code",
   "execution_count": 10,
   "id": "a16c83bf-4112-4436-bf97-472b91d284be",
   "metadata": {},
   "outputs": [],
   "source": [
    "dfsub.to_csv('cb-lc-1.csv', index = False)"
   ]
  },
  {
   "cell_type": "code",
   "execution_count": 11,
   "id": "59d04503-cb15-4e20-a6b1-6bc2bf52b1ca",
   "metadata": {},
   "outputs": [
    {
     "data": {
      "text/plain": [
       "Index(['objectid', 'parentid', 'Notes', 'title', 'creator', 'date',\n",
       "       'description', 'collection', 'subject', 'location', 'latitude',\n",
       "       'longitude', 'source', 'identifier', 'type', 'format', 'language',\n",
       "       'rights', 'rightsstatement', 'display_template', 'object_location',\n",
       "       'image_small', 'image_thumb', 'image_alt_text', 'object_transcript',\n",
       "       'extra'],\n",
       "      dtype='object')"
      ]
     },
     "execution_count": 11,
     "metadata": {},
     "output_type": "execute_result"
    }
   ],
   "source": [
    "dfsub.columns"
   ]
  },
  {
   "cell_type": "code",
   "execution_count": 13,
   "id": "6cf31faa-d7fc-4c58-bbd7-001a21e45598",
   "metadata": {},
   "outputs": [],
   "source": [
    "df['image_small'] = np.nan"
   ]
  },
  {
   "cell_type": "code",
   "execution_count": 18,
   "id": "251bc9df-5ab9-4c9e-876a-2151e8c9fd60",
   "metadata": {},
   "outputs": [
    {
     "data": {
      "text/plain": [
       "1   NaN\n",
       "2   NaN\n",
       "3   NaN\n",
       "4   NaN\n",
       "5   NaN\n",
       "Name: image_thumb, dtype: float64"
      ]
     },
     "execution_count": 18,
     "metadata": {},
     "output_type": "execute_result"
    }
   ],
   "source": [
    "dfsub['image_thumb']= np.nan\n",
    "dfsub['image_thumb']"
   ]
  },
  {
   "cell_type": "code",
   "execution_count": 20,
   "id": "ac97030a-f083-4710-bb65-1d182a9ee454",
   "metadata": {},
   "outputs": [],
   "source": [
    "dfsub.to_csv('cb-lc-1.csv', index = False)"
   ]
  },
  {
   "cell_type": "code",
   "execution_count": 21,
   "id": "ed279e39-8cbd-4fa5-8370-a3b65ea67aaa",
   "metadata": {},
   "outputs": [],
   "source": [
    "dff = pd.read_csv('cb-lc-1.csv')"
   ]
  },
  {
   "cell_type": "code",
   "execution_count": 22,
   "id": "bf7cdd70-5724-452c-83d2-eb78b625ddec",
   "metadata": {},
   "outputs": [
    {
     "data": {
      "text/html": [
       "<div>\n",
       "<style scoped>\n",
       "    .dataframe tbody tr th:only-of-type {\n",
       "        vertical-align: middle;\n",
       "    }\n",
       "\n",
       "    .dataframe tbody tr th {\n",
       "        vertical-align: top;\n",
       "    }\n",
       "\n",
       "    .dataframe thead th {\n",
       "        text-align: right;\n",
       "    }\n",
       "</style>\n",
       "<table border=\"1\" class=\"dataframe\">\n",
       "  <thead>\n",
       "    <tr style=\"text-align: right;\">\n",
       "      <th></th>\n",
       "      <th>objectid</th>\n",
       "      <th>parentid</th>\n",
       "      <th>Notes</th>\n",
       "      <th>title</th>\n",
       "      <th>creator</th>\n",
       "      <th>date</th>\n",
       "      <th>description</th>\n",
       "      <th>collection</th>\n",
       "      <th>subject</th>\n",
       "      <th>location</th>\n",
       "      <th>...</th>\n",
       "      <th>language</th>\n",
       "      <th>rights</th>\n",
       "      <th>rightsstatement</th>\n",
       "      <th>display_template</th>\n",
       "      <th>object_location</th>\n",
       "      <th>image_small</th>\n",
       "      <th>image_thumb</th>\n",
       "      <th>image_alt_text</th>\n",
       "      <th>object_transcript</th>\n",
       "      <th>extra</th>\n",
       "    </tr>\n",
       "  </thead>\n",
       "  <tbody>\n",
       "    <tr>\n",
       "      <th>0</th>\n",
       "      <td>ac_004</td>\n",
       "      <td>NaN</td>\n",
       "      <td>NaN</td>\n",
       "      <td>Turkish Tubaphone</td>\n",
       "      <td>NaN</td>\n",
       "      <td>NaN</td>\n",
       "      <td>NaN</td>\n",
       "      <td>Acoustics</td>\n",
       "      <td>NaN</td>\n",
       "      <td>NaN</td>\n",
       "      <td>...</td>\n",
       "      <td>NaN</td>\n",
       "      <td>NaN</td>\n",
       "      <td>NaN</td>\n",
       "      <td>image</td>\n",
       "      <td>/objects/ac_004_turkish_tubaphone.jpg</td>\n",
       "      <td>NaN</td>\n",
       "      <td>NaN</td>\n",
       "      <td>NaN</td>\n",
       "      <td>NaN</td>\n",
       "      <td>NaN</td>\n",
       "    </tr>\n",
       "    <tr>\n",
       "      <th>1</th>\n",
       "      <td>ac_005</td>\n",
       "      <td>NaN</td>\n",
       "      <td>NaN</td>\n",
       "      <td>Xylophone</td>\n",
       "      <td>NaN</td>\n",
       "      <td>NaN</td>\n",
       "      <td>NaN</td>\n",
       "      <td>Acoustics</td>\n",
       "      <td>NaN</td>\n",
       "      <td>NaN</td>\n",
       "      <td>...</td>\n",
       "      <td>NaN</td>\n",
       "      <td>NaN</td>\n",
       "      <td>NaN</td>\n",
       "      <td>image</td>\n",
       "      <td>/objects/ac_005_xylophone.jpg</td>\n",
       "      <td>NaN</td>\n",
       "      <td>NaN</td>\n",
       "      <td>NaN</td>\n",
       "      <td>NaN</td>\n",
       "      <td>NaN</td>\n",
       "    </tr>\n",
       "    <tr>\n",
       "      <th>2</th>\n",
       "      <td>ac_006</td>\n",
       "      <td>NaN</td>\n",
       "      <td>NaN</td>\n",
       "      <td>Four Tuning Forks</td>\n",
       "      <td>L. Landry</td>\n",
       "      <td>1900.0</td>\n",
       "      <td>These four tuning forks, mounted in resonating...</td>\n",
       "      <td>Acoustics</td>\n",
       "      <td>NaN</td>\n",
       "      <td>Display Case H3</td>\n",
       "      <td>...</td>\n",
       "      <td>NaN</td>\n",
       "      <td>NaN</td>\n",
       "      <td>NaN</td>\n",
       "      <td>image</td>\n",
       "      <td>/objects/ac_006_4_tuning_forks.jpg</td>\n",
       "      <td>NaN</td>\n",
       "      <td>NaN</td>\n",
       "      <td>NaN</td>\n",
       "      <td>NaN</td>\n",
       "      <td>NaN</td>\n",
       "    </tr>\n",
       "    <tr>\n",
       "      <th>3</th>\n",
       "      <td>ac_007</td>\n",
       "      <td>NaN</td>\n",
       "      <td>NaN</td>\n",
       "      <td>Metal Whistle</td>\n",
       "      <td>NaN</td>\n",
       "      <td>NaN</td>\n",
       "      <td>NaN</td>\n",
       "      <td>Acoustics</td>\n",
       "      <td>NaN</td>\n",
       "      <td>Display Case H3</td>\n",
       "      <td>...</td>\n",
       "      <td>NaN</td>\n",
       "      <td>NaN</td>\n",
       "      <td>NaN</td>\n",
       "      <td>image</td>\n",
       "      <td>/objects/ac_007_whistle.jpg</td>\n",
       "      <td>NaN</td>\n",
       "      <td>NaN</td>\n",
       "      <td>NaN</td>\n",
       "      <td>NaN</td>\n",
       "      <td>NaN</td>\n",
       "    </tr>\n",
       "    <tr>\n",
       "      <th>4</th>\n",
       "      <td>ac_010</td>\n",
       "      <td>NaN</td>\n",
       "      <td>NaN</td>\n",
       "      <td>Metronome</td>\n",
       "      <td>NaN</td>\n",
       "      <td>NaN</td>\n",
       "      <td>NaN</td>\n",
       "      <td>Acoustics</td>\n",
       "      <td>NaN</td>\n",
       "      <td>Display Case H3</td>\n",
       "      <td>...</td>\n",
       "      <td>NaN</td>\n",
       "      <td>NaN</td>\n",
       "      <td>NaN</td>\n",
       "      <td>NaN</td>\n",
       "      <td>/objects/ac_010_metronome.jpg</td>\n",
       "      <td>NaN</td>\n",
       "      <td>NaN</td>\n",
       "      <td>NaN</td>\n",
       "      <td>NaN</td>\n",
       "      <td>NaN</td>\n",
       "    </tr>\n",
       "  </tbody>\n",
       "</table>\n",
       "<p>5 rows × 26 columns</p>\n",
       "</div>"
      ],
      "text/plain": [
       "  objectid  parentid  Notes              title    creator    date  \\\n",
       "0   ac_004       NaN    NaN  Turkish Tubaphone        NaN     NaN   \n",
       "1   ac_005       NaN    NaN          Xylophone        NaN     NaN   \n",
       "2   ac_006       NaN    NaN  Four Tuning Forks  L. Landry  1900.0   \n",
       "3   ac_007       NaN    NaN      Metal Whistle        NaN     NaN   \n",
       "4   ac_010       NaN    NaN          Metronome        NaN     NaN   \n",
       "\n",
       "                                         description collection  subject  \\\n",
       "0                                                NaN  Acoustics      NaN   \n",
       "1                                                NaN  Acoustics      NaN   \n",
       "2  These four tuning forks, mounted in resonating...  Acoustics      NaN   \n",
       "3                                                NaN  Acoustics      NaN   \n",
       "4                                                NaN  Acoustics      NaN   \n",
       "\n",
       "          location  ...  language  rights  rightsstatement display_template  \\\n",
       "0              NaN  ...       NaN     NaN              NaN            image   \n",
       "1              NaN  ...       NaN     NaN              NaN            image   \n",
       "2  Display Case H3  ...       NaN     NaN              NaN            image   \n",
       "3  Display Case H3  ...       NaN     NaN              NaN            image   \n",
       "4  Display Case H3  ...       NaN     NaN              NaN              NaN   \n",
       "\n",
       "                         object_location image_small  image_thumb  \\\n",
       "0  /objects/ac_004_turkish_tubaphone.jpg         NaN          NaN   \n",
       "1          /objects/ac_005_xylophone.jpg         NaN          NaN   \n",
       "2     /objects/ac_006_4_tuning_forks.jpg         NaN          NaN   \n",
       "3            /objects/ac_007_whistle.jpg         NaN          NaN   \n",
       "4          /objects/ac_010_metronome.jpg         NaN          NaN   \n",
       "\n",
       "   image_alt_text  object_transcript extra  \n",
       "0             NaN                NaN   NaN  \n",
       "1             NaN                NaN   NaN  \n",
       "2             NaN                NaN   NaN  \n",
       "3             NaN                NaN   NaN  \n",
       "4             NaN                NaN   NaN  \n",
       "\n",
       "[5 rows x 26 columns]"
      ]
     },
     "execution_count": 22,
     "metadata": {},
     "output_type": "execute_result"
    }
   ],
   "source": [
    "dff"
   ]
  },
  {
   "cell_type": "code",
   "execution_count": null,
   "id": "cfb582a3-8fc8-439d-a5b9-c7167b558d71",
   "metadata": {},
   "outputs": [],
   "source": []
  }
 ],
 "metadata": {
  "kernelspec": {
   "display_name": "Python [conda env:base] *",
   "language": "python",
   "name": "conda-base-py"
  },
  "language_info": {
   "codemirror_mode": {
    "name": "ipython",
    "version": 3
   },
   "file_extension": ".py",
   "mimetype": "text/x-python",
   "name": "python",
   "nbconvert_exporter": "python",
   "pygments_lexer": "ipython3",
   "version": "3.12.7"
  }
 },
 "nbformat": 4,
 "nbformat_minor": 5
}
