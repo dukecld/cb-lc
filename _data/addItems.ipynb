{
 "cells": [
  {
   "cell_type": "code",
   "execution_count": null,
   "id": "8a680501-17e7-4f71-b411-643c853b7338",
   "metadata": {},
   "outputs": [],
   "source": [
    "import pandas as pd\n",
    "import numpy as np"
   ]
  },
  {
   "cell_type": "code",
   "execution_count": null,
   "id": "ddb6c1a3-947f-4fc2-9161-3fe513cfee82",
   "metadata": {},
   "outputs": [],
   "source": [
    "df = pd.read_csv('cbcld-1.csv')\n",
    "df.head()\n",
    "df.iloc[0]['object_location']"
   ]
  },
  {
   "cell_type": "code",
   "execution_count": null,
   "id": "b68e315d-78ab-4c2c-a46f-5fbf6135d2cb",
   "metadata": {},
   "outputs": [],
   "source": [
    "df.columns"
   ]
  },
  {
   "cell_type": "code",
   "execution_count": null,
   "id": "5f5c67dd-f534-4bce-b76e-38affcefcb2e",
   "metadata": {},
   "outputs": [],
   "source": [
    "dfsub = df.iloc[1:6].copy()"
   ]
  },
  {
   "cell_type": "code",
   "execution_count": null,
   "id": "4462b68f-9663-40c9-862e-5830fc772cd6",
   "metadata": {},
   "outputs": [],
   "source": [
    "dfsub[ ['objectid', 'object_location']]"
   ]
  },
  {
   "cell_type": "code",
   "execution_count": null,
   "id": "139a7329-916a-44a8-aa69-fffea4ea2150",
   "metadata": {},
   "outputs": [],
   "source": [
    "locaL = ['/objects/ac_004_turkish_tubaphone.jpg',\n",
    "'/objects/ac_005_xylophone.jpg',\n",
    "'/objects/ac_006_4_tuning_forks.jpg',\n",
    "'/objects/ac_007_whistle.jpg',\n",
    "'/objects/ac_010_metronome.jpg']\n",
    "locaL"
   ]
  },
  {
   "cell_type": "code",
   "execution_count": null,
   "id": "9cf4ae2e-f439-466f-83ec-3f3b8624a2f4",
   "metadata": {},
   "outputs": [],
   "source": [
    "dfsub['object_location'] = locaL"
   ]
  },
  {
   "cell_type": "code",
   "execution_count": null,
   "id": "cc4a68a9-eb37-41bf-b954-a0c652280cf8",
   "metadata": {},
   "outputs": [],
   "source": [
    "dfsub.head()"
   ]
  },
  {
   "cell_type": "code",
   "execution_count": null,
   "id": "a16c83bf-4112-4436-bf97-472b91d284be",
   "metadata": {},
   "outputs": [],
   "source": [
    "dfsub.to_csv('cb-lc-1.csv', index = False)"
   ]
  },
  {
   "cell_type": "code",
   "execution_count": null,
   "id": "59d04503-cb15-4e20-a6b1-6bc2bf52b1ca",
   "metadata": {},
   "outputs": [],
   "source": []
  }
 ],
 "metadata": {
  "kernelspec": {
   "display_name": "Python [conda env:base] *",
   "language": "python",
   "name": "conda-base-py"
  },
  "language_info": {
   "codemirror_mode": {
    "name": "ipython",
    "version": 3
   },
   "file_extension": ".py",
   "mimetype": "text/x-python",
   "name": "python",
   "nbconvert_exporter": "python",
   "pygments_lexer": "ipython3",
   "version": "3.12.7"
  }
 },
 "nbformat": 4,
 "nbformat_minor": 5
}
